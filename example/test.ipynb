{
 "cells": [
  {
   "cell_type": "code",
   "execution_count": 1,
   "metadata": {},
   "outputs": [
    {
     "name": "stderr",
     "output_type": "stream",
     "text": [
      "In file included from /home/dariobrunelli/projects/lib/python3.10/site-packages/numpy/core/include/numpy/ndarraytypes.h:1929,\n",
      "                 from /home/dariobrunelli/projects/lib/python3.10/site-packages/numpy/core/include/numpy/ndarrayobject.h:12,\n",
      "                 from /home/dariobrunelli/projects/lib/python3.10/site-packages/numpy/core/include/numpy/arrayobject.h:5,\n",
      "                 from /home/dariobrunelli/.pyxbld/temp.linux-x86_64-3.10/home/dariobrunelli/projects/lib/python3.10/site-packages/sure/distance_metrics/gower_matrix_c.c:1240:\n",
      "/home/dariobrunelli/projects/lib/python3.10/site-packages/numpy/core/include/numpy/npy_1_7_deprecated_api.h:17:2: warning: #warning \"Using deprecated NumPy API, disable it with \" \"#define NPY_NO_DEPRECATED_API NPY_1_7_API_VERSION\" [-Wcpp]\n",
      "   17 | #warning \"Using deprecated NumPy API, disable it with \" \\\n",
      "      |  ^~~~~~~\n"
     ]
    }
   ],
   "source": [
    "import sys\n",
    "sys.path.append('../')\n",
    "\n",
    "import polars as pl\n",
    "import polars.selectors as cs\n",
    "import pandas as pd\n",
    "import numpy as np\n",
    "\n",
    "from sure.distance_metrics.distance  import distance_to_closest_record\n",
    "# from preprocessor.clearbox_preprocessor.preprocessor import Preprocessor"
   ]
  },
  {
   "cell_type": "code",
   "execution_count": 2,
   "metadata": {},
   "outputs": [
    {
     "data": {
      "text/html": [
       "<div><style>\n",
       ".dataframe > thead > tr,\n",
       ".dataframe > tbody > tr {\n",
       "  text-align: right;\n",
       "  white-space: pre-wrap;\n",
       "}\n",
       "</style>\n",
       "<small>shape: (5, 5)</small><table border=\"1\" class=\"dataframe\"><thead><tr><th>num</th><th>str</th><th>bool</th><th>str_2</th><th>date</th></tr><tr><td>i64</td><td>str</td><td>bool</td><td>str</td><td>date</td></tr></thead><tbody><tr><td>1</td><td>&quot;a&quot;</td><td>true</td><td>&quot;x&quot;</td><td>2020-01-01</td></tr><tr><td>2</td><td>&quot;b&quot;</td><td>false</td><td>&quot;y&quot;</td><td>null</td></tr><tr><td>3</td><td>&quot;c&quot;</td><td>false</td><td>null</td><td>2022-01-01</td></tr><tr><td>5</td><td>&quot;a&quot;</td><td>true</td><td>&quot;x&quot;</td><td>2023-01-01</td></tr><tr><td>1</td><td>&quot;b&quot;</td><td>false</td><td>&quot;z&quot;</td><td>2024-01-01</td></tr></tbody></table></div>"
      ],
      "text/plain": [
       "shape: (5, 5)\n",
       "┌─────┬─────┬───────┬───────┬────────────┐\n",
       "│ num ┆ str ┆ bool  ┆ str_2 ┆ date       │\n",
       "│ --- ┆ --- ┆ ---   ┆ ---   ┆ ---        │\n",
       "│ i64 ┆ str ┆ bool  ┆ str   ┆ date       │\n",
       "╞═════╪═════╪═══════╪═══════╪════════════╡\n",
       "│ 1   ┆ a   ┆ true  ┆ x     ┆ 2020-01-01 │\n",
       "│ 2   ┆ b   ┆ false ┆ y     ┆ null       │\n",
       "│ 3   ┆ c   ┆ false ┆ null  ┆ 2022-01-01 │\n",
       "│ 5   ┆ a   ┆ true  ┆ x     ┆ 2023-01-01 │\n",
       "│ 1   ┆ b   ┆ false ┆ z     ┆ 2024-01-01 │\n",
       "└─────┴─────┴───────┴───────┴────────────┘"
      ]
     },
     "execution_count": 2,
     "metadata": {},
     "output_type": "execute_result"
    }
   ],
   "source": [
    "# Toy datasets for testing\n",
    "\n",
    "data1 = {\n",
    "        \"num\": [1, 2, 3, 5, 1], \n",
    "        \"str\": [\"a\",\"b\",\"c\",\"a\",\"b\"], \n",
    "        \"bool\": [True,False,False,True,False],\n",
    "        \"str_2\" : [\"x\",\"y\",None,\"x\",\"z\"],\n",
    "        \"date\": [\"2020-01-01\", None, \"2022-01-01\", \"2023-01-01\", \"2024-01-01\"]\n",
    "        }\n",
    "lf1 = pl.LazyFrame(data1)\n",
    "lf1=lf1.with_columns(pl.col(\"date\").str.to_date())\n",
    "data1 = lf1.collect()\n",
    "\n",
    "data2 = {\n",
    "        \"num\": [5, 4, None, 1, 5], \n",
    "        \"str\": [\"a\",\"c\",\"c\",\"b\",\"b\"], \n",
    "        \"bool\": [True,True,False,None,False],\n",
    "        \"str_2\" : [\"x\",\"y\",None,\"z\",\"z\"],\n",
    "        \"date\": [\"2020-01-01\", \"2021-01-01\", \"2022-01-01\", \"2023-01-01\", \"2024-01-01\"]\n",
    "        }\n",
    "lf2 = pl.LazyFrame(data2)\n",
    "lf2=lf2.with_columns(pl.col(\"date\").str.to_date())\n",
    "data2 = lf2.collect()\n",
    "\n",
    "data1"
   ]
  },
  {
   "cell_type": "code",
   "execution_count": 4,
   "metadata": {},
   "outputs": [],
   "source": [
    "# preprocessor = Preprocessor(lf1, get_discarded_info=True)\n",
    "# data_proc1 = preprocessor.collect(lf1,num_fill_null=\"interpolate\")\n",
    "\n",
    "# preprocessor = Preprocessor(lf2, get_discarded_info=True)\n",
    "# data_proc2 = preprocessor.collect(lf2,num_fill_null=\"interpolate\")\n",
    "# data_proc1"
   ]
  },
  {
   "cell_type": "code",
   "execution_count": 5,
   "metadata": {},
   "outputs": [
    {
     "name": "stdout",
     "output_type": "stream",
     "text": [
      "5\n",
      "<class 'int'>\n"
     ]
    },
    {
     "ename": "TypeError",
     "evalue": "Expected list, got numpy.ndarray",
     "output_type": "error",
     "traceback": [
      "\u001b[0;31m---------------------------------------------------------------------------\u001b[0m",
      "\u001b[0;31mTypeError\u001b[0m                                 Traceback (most recent call last)",
      "Cell \u001b[0;32mIn[5], line 1\u001b[0m\n\u001b[0;32m----> 1\u001b[0m \u001b[43mdistance_to_closest_record\u001b[49m\u001b[43m(\u001b[49m\u001b[43mdata1\u001b[49m\u001b[43m,\u001b[49m\u001b[43m \u001b[49m\u001b[43mcateg\u001b[49m\u001b[43m,\u001b[49m\u001b[43m \u001b[49m\u001b[43mdata2\u001b[49m\u001b[43m,\u001b[49m\u001b[43m \u001b[49m\u001b[43mparallel\u001b[49m\u001b[38;5;241;43m=\u001b[39;49m\u001b[38;5;28;43;01mFalse\u001b[39;49;00m\u001b[43m)\u001b[49m\n",
      "File \u001b[0;32m~/projects/lib/python3.10/site-packages/sure/distance_metrics/distance.py:154\u001b[0m, in \u001b[0;36msure.distance_metrics.distance.distance_to_closest_record\u001b[0;34m()\u001b[0m\n",
      "\u001b[0;31mTypeError\u001b[0m: Expected list, got numpy.ndarray"
     ]
    }
   ],
   "source": [
    "categ = list(cs.expand_selector(data1, cs.string()))\n",
    "distance_to_closest_record(data1, categ, data2, parallel=False)"
   ]
  }
 ],
 "metadata": {
  "kernelspec": {
   "display_name": "projects",
   "language": "python",
   "name": "python3"
  },
  "language_info": {
   "codemirror_mode": {
    "name": "ipython",
    "version": 3
   },
   "file_extension": ".py",
   "mimetype": "text/x-python",
   "name": "python",
   "nbconvert_exporter": "python",
   "pygments_lexer": "ipython3",
   "version": "3.10.12"
  }
 },
 "nbformat": 4,
 "nbformat_minor": 2
}
